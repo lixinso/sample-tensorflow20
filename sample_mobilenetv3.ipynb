{
  "nbformat": 4,
  "nbformat_minor": 0,
  "metadata": {
    "colab": {
      "name": "sample-mobilenetv3.ipynb",
      "provenance": [],
      "include_colab_link": true
    },
    "kernelspec": {
      "name": "python3",
      "display_name": "Python 3"
    }
  },
  "cells": [
    {
      "cell_type": "markdown",
      "metadata": {
        "id": "view-in-github",
        "colab_type": "text"
      },
      "source": [
        "<a href=\"https://colab.research.google.com/github/lixinso/sample-tensorflow20/blob/master/sample_mobilenetv3.ipynb\" target=\"_parent\"><img src=\"https://colab.research.google.com/assets/colab-badge.svg\" alt=\"Open In Colab\"/></a>"
      ]
    },
    {
      "cell_type": "code",
      "metadata": {
        "id": "q5cd6qxslSpn",
        "colab_type": "code",
        "colab": {}
      },
      "source": [
        ""
      ],
      "execution_count": 0,
      "outputs": []
    },
    {
      "cell_type": "markdown",
      "metadata": {
        "id": "C-4SuurCnAO1",
        "colab_type": "text"
      },
      "source": [
        "### REferences\n",
        "- https://arxiv.org/ftp/arxiv/papers/1712/1712.04698.pdf\n",
        "- https://github.com/tensorflow/models/tree/master/research/slim/nets/mobilenet\n",
        "- https://github.com/keras-team/keras-applications/blob/master/keras_applications/mobilenet.py"
      ]
    },
    {
      "cell_type": "code",
      "metadata": {
        "id": "vDshHZixnDmy",
        "colab_type": "code",
        "colab": {}
      },
      "source": [
        ""
      ],
      "execution_count": 0,
      "outputs": []
    }
  ]
}